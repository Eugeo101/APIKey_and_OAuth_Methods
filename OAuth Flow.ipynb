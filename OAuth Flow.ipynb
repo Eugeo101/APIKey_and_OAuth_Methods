{
 "cells": [
  {
   "cell_type": "markdown",
   "id": "2b8ad13e",
   "metadata": {},
   "source": [
    "# Web Application Flow (OAuth Flow)\n",
    "### 1. Redirect users to request Dribbble access."
   ]
  },
  {
   "cell_type": "markdown",
   "id": "e7426fe5",
   "metadata": {},
   "source": [
    "open API documentation of dribbble to see how to make API requests if it asks for acess_token then find how to get it from API documentation:\n",
    "\n",
    "**At Dribbble Documentation I made acccount to get both {client_id & client_secret} then at API documentation I opened OAuth to know how to get acess_tokken and asked me to make get requests like next cell**"
   ]
  },
  {
   "cell_type": "code",
   "execution_count": 1,
   "id": "b7234dca",
   "metadata": {},
   "outputs": [
    {
     "data": {
      "text/plain": [
       "<Response [200]>"
      ]
     },
     "execution_count": 1,
     "metadata": {},
     "output_type": "execute_result"
    }
   ],
   "source": [
    "import requests\n",
    "\n",
    "client_id = \"930c5362194faa89f200ffc0291d4514b075c25b4fa821d16df3597553396b7a\"\n",
    "client_secret = \"6d8380cb572082e0d70f9940a4efd57ee86b43eda8af1482ed84dd71699d429f\"\n",
    "\n",
    "res = requests.get(f\"https://dribbble.com/oauth/authorize?client_id={client_id}\")\n",
    "res"
   ]
  },
  {
   "cell_type": "markdown",
   "id": "5e9051a6",
   "metadata": {},
   "source": [
    "**Sending above requests using BROWSER then accept Authorize then found this code in the browser URL code parameter**\n",
    "\n",
    "a) tried this at web-browser:\n",
    "https://dribbble.com/oauth/authorize?client_id=930c5362194faa89f200ffc0291d4514b075c25b4fa821d16df3597553396b7a\n",
    "\n",
    "b) clicked Authorize\n",
    "\n",
    "c) then it re-directed me to:\n",
    "http://collecting_data.com/callback?code=0d8702181274b1c06fe02f37cf794c44b5d109c8121c649c760d654695eeb1df\n",
    "\n",
    "http://collecting_data.com/callback: is application URL and callback URI I made at registeration the important parameter to get here is finally the code parameter"
   ]
  },
  {
   "cell_type": "markdown",
   "id": "828503c8",
   "metadata": {},
   "source": [
    "### 2nd Step:\n",
    "\n",
    "**send post request to get acess_token as dribbble API documentation told me how to send it with which required parameters**\n",
    "\n",
    "**then .json() to get acess_tokken**"
   ]
  },
  {
   "cell_type": "code",
   "execution_count": 2,
   "id": "4d8f023f",
   "metadata": {
    "scrolled": false
   },
   "outputs": [
    {
     "data": {
      "text/plain": [
       "<Response [200]>"
      ]
     },
     "execution_count": 2,
     "metadata": {},
     "output_type": "execute_result"
    }
   ],
   "source": [
    "code = \"4b1141e2436f0c9d8f2ba5a562bae60826ef51633b2c744d899623e944ff70a3\" \n",
    "\n",
    "res = requests.post(f\"https://dribbble.com/oauth/token?client_id={client_id}&client_secret={client_secret}&code={code}\")\n",
    "res"
   ]
  },
  {
   "cell_type": "code",
   "execution_count": 4,
   "id": "bdc9fe77",
   "metadata": {},
   "outputs": [
    {
     "data": {
      "text/plain": [
       "{'access_token': 'ac075fb7c128beef3d816ea7da75e5c6074a00bbf55775adf612e0e36fcce2eb',\n",
       " 'token_type': 'Bearer',\n",
       " 'scope': 'public',\n",
       " 'created_at': 1714334381}"
      ]
     },
     "execution_count": 4,
     "metadata": {},
     "output_type": "execute_result"
    }
   ],
   "source": [
    "# acess_token\n",
    "result = res.json()\n",
    "result"
   ]
  },
  {
   "cell_type": "markdown",
   "id": "05d408b4",
   "metadata": {},
   "source": [
    "### 3rd Step:\n",
    "\n",
    "Use the acess_token to make API requests from dribbble Rest API Server"
   ]
  },
  {
   "cell_type": "code",
   "execution_count": 5,
   "id": "de6712fb",
   "metadata": {},
   "outputs": [
    {
     "data": {
      "text/plain": [
       "'ac075fb7c128beef3d816ea7da75e5c6074a00bbf55775adf612e0e36fcce2eb'"
      ]
     },
     "execution_count": 5,
     "metadata": {},
     "output_type": "execute_result"
    }
   ],
   "source": [
    "access_token = result['access_token']\n",
    "access_token"
   ]
  },
  {
   "cell_type": "code",
   "execution_count": 6,
   "id": "c78a884c",
   "metadata": {},
   "outputs": [
    {
     "data": {
      "text/plain": [
       "<Response [200]>"
      ]
     },
     "execution_count": 6,
     "metadata": {},
     "output_type": "execute_result"
    }
   ],
   "source": [
    "# using query parameters\n",
    "res = requests.get(f\"https://api.dribbble.com/v2/user?access_token={access_token}\")\n",
    "res"
   ]
  },
  {
   "cell_type": "code",
   "execution_count": 7,
   "id": "47e7f88f",
   "metadata": {},
   "outputs": [
    {
     "data": {
      "text/plain": [
       "<Response [200]>"
      ]
     },
     "execution_count": 7,
     "metadata": {},
     "output_type": "execute_result"
    }
   ],
   "source": [
    "# or put at header\n",
    "res = requests.get(f\"https://api.dribbble.com/v2/user\", headers={\"Authorization\": f\"Bearer {access_token}\"})\n",
    "res"
   ]
  },
  {
   "cell_type": "markdown",
   "id": "a49e5d50",
   "metadata": {},
   "source": [
    "#### API Request to get users of my application"
   ]
  },
  {
   "cell_type": "code",
   "execution_count": 8,
   "id": "73f3f8a8",
   "metadata": {},
   "outputs": [
    {
     "data": {
      "text/plain": [
       "<Response [200]>"
      ]
     },
     "execution_count": 8,
     "metadata": {},
     "output_type": "execute_result"
    }
   ],
   "source": [
    "base_url = \"https://api.dribbble.com/v2\"\n",
    "endpoint_to_get_users_of_my_application = \"user\"\n",
    "access_token = \"ac075fb7c128beef3d816ea7da75e5c6074a00bbf55775adf612e0e36fcce2eb\"\n",
    "\n",
    "res = requests.get(f\"{base_url}/{endpoint_to_get_users_of_my_application}?access_token={access_token}\") \n",
    "res"
   ]
  },
  {
   "cell_type": "code",
   "execution_count": 9,
   "id": "536481d9",
   "metadata": {},
   "outputs": [
    {
     "data": {
      "text/plain": [
       "{'avatar_url': 'https://cdn.dribbble.com/users/20513037/avatars/normal/data?1714330407',\n",
       " 'bio': '',\n",
       " 'can_upload_shot': True,\n",
       " 'created_at': '2024-04-28T14:53:26.905-04:00',\n",
       " 'followers_count': 0,\n",
       " 'html_url': 'https://dribbble.com/Ahmed-Ayman-101',\n",
       " 'id': 20513037,\n",
       " 'links': {},\n",
       " 'location': 'cairo',\n",
       " 'login': 'Ahmed-Ayman-101',\n",
       " 'name': 'Ahmed Ayman',\n",
       " 'pro': False,\n",
       " 'type': 'User',\n",
       " 'email': 'ahmedayman58134@gmail.com',\n",
       " 'teams': []}"
      ]
     },
     "execution_count": 9,
     "metadata": {},
     "output_type": "execute_result"
    }
   ],
   "source": [
    "res.json()"
   ]
  },
  {
   "cell_type": "markdown",
   "id": "114f5202",
   "metadata": {},
   "source": [
    "### Projects this user made"
   ]
  },
  {
   "cell_type": "code",
   "execution_count": 10,
   "id": "8e4ad566",
   "metadata": {},
   "outputs": [
    {
     "data": {
      "text/plain": [
       "<Response [200]>"
      ]
     },
     "execution_count": 10,
     "metadata": {},
     "output_type": "execute_result"
    }
   ],
   "source": [
    "base_url = \"https://api.dribbble.com/v2\"\n",
    "endpoint_to_get_projects = \"/user/projects\"\n",
    "access_token = \"ac075fb7c128beef3d816ea7da75e5c6074a00bbf55775adf612e0e36fcce2eb\"\n",
    "\n",
    "res = requests.get(f\"{base_url}/{endpoint_to_get_projects}?access_token={access_token}\") \n",
    "res"
   ]
  },
  {
   "cell_type": "code",
   "execution_count": 11,
   "id": "f9f627b1",
   "metadata": {},
   "outputs": [
    {
     "data": {
      "text/plain": [
       "[]"
      ]
     },
     "execution_count": 11,
     "metadata": {},
     "output_type": "execute_result"
    }
   ],
   "source": [
    "res.json()"
   ]
  },
  {
   "cell_type": "markdown",
   "id": "7c7f1135",
   "metadata": {},
   "source": [
    "# Create or Get Jobs is Forbidden need special token"
   ]
  },
  {
   "cell_type": "markdown",
   "id": "e1a92ba9",
   "metadata": {},
   "source": [
    "### Create Jobs"
   ]
  },
  {
   "cell_type": "code",
   "execution_count": 12,
   "id": "7cb73007",
   "metadata": {
    "scrolled": false
   },
   "outputs": [
    {
     "data": {
      "text/plain": [
       "<Response [403]>"
      ]
     },
     "execution_count": 12,
     "metadata": {},
     "output_type": "execute_result"
    }
   ],
   "source": [
    "organization_name = 'TechCo Inc.'\n",
    "title = 'Software Engineer'\n",
    "location = 'San Francisco'\n",
    "link_to_apply = 'https://docs.google.com/forms/d/e/1FAIpQLSfghWBt9UR6H6xr3K117J47TgDvQlcSJyh_eSiqszkbh3bcuQ/viewform'\n",
    "description = '<p>We are looking for a skilled Software Engineer to join our team!</p>'\n",
    "active = False\n",
    "team = 'engineering'\n",
    "category = 'Mobile Developer'\n",
    "role_type = 'full-time'\n",
    "website = 'https://techco.com'\n",
    "twitter = 'https://twitter.com/techco'\n",
    "instagram = 'https://instagram.com/techco'\n",
    "facebook = 'https://facebook.com/techco'\n",
    "onsite_or_remote = True\n",
    "onsite_only = True\n",
    "remote_only = False\n",
    "\n",
    "base_url = \"https://api.dribbble.com/v2\"\n",
    "endpoint_to_create_jobs = f\"jobs\"\n",
    "access_token = \"ac075fb7c128beef3d816ea7da75e5c6074a00bbf55775adf612e0e36fcce2eb\"\n",
    "\n",
    "res = requests.post(f\"{base_url}/{endpoint_to_create_jobs}?access_token={access_token}&organization_name={organization_name}&title={title}&location={location}&link_to_apply={link_to_apply}&description={description}&active={False}\") \n",
    "res"
   ]
  },
  {
   "cell_type": "code",
   "execution_count": 13,
   "id": "3178cb46",
   "metadata": {},
   "outputs": [
    {
     "data": {
      "text/plain": [
       "'Forbidden'"
      ]
     },
     "execution_count": 13,
     "metadata": {},
     "output_type": "execute_result"
    }
   ],
   "source": [
    "res.reason"
   ]
  },
  {
   "cell_type": "markdown",
   "id": "b12d1d0d",
   "metadata": {},
   "source": [
    "### Get all Jobs"
   ]
  },
  {
   "cell_type": "code",
   "execution_count": 14,
   "id": "5627f57d",
   "metadata": {},
   "outputs": [
    {
     "data": {
      "text/plain": [
       "<Response [403]>"
      ]
     },
     "execution_count": 14,
     "metadata": {},
     "output_type": "execute_result"
    }
   ],
   "source": [
    "base_url = \"https://api.dribbble.com/v2\"\n",
    "job_id = 247178 # at 28-4-2024 it's UI/UX Designer\n",
    "endpoint_to_get_jobs = f\"jobs/{job_id}\"\n",
    "access_token = \"ac075fb7c128beef3d816ea7da75e5c6074a00bbf55775adf612e0e36fcce2eb\"\n",
    "\n",
    "res = requests.get(f\"{base_url}/{endpoint_to_get_jobs}?access_token={access_token}\") \n",
    "res"
   ]
  },
  {
   "cell_type": "code",
   "execution_count": 15,
   "id": "b51cab42",
   "metadata": {},
   "outputs": [
    {
     "data": {
      "text/plain": [
       "'Forbidden'"
      ]
     },
     "execution_count": 15,
     "metadata": {},
     "output_type": "execute_result"
    }
   ],
   "source": [
    "res.reason"
   ]
  }
 ],
 "metadata": {
  "kernelspec": {
   "display_name": "Python 3 (ipykernel)",
   "language": "python",
   "name": "python3"
  },
  "language_info": {
   "codemirror_mode": {
    "name": "ipython",
    "version": 3
   },
   "file_extension": ".py",
   "mimetype": "text/x-python",
   "name": "python",
   "nbconvert_exporter": "python",
   "pygments_lexer": "ipython3",
   "version": "3.9.12"
  }
 },
 "nbformat": 4,
 "nbformat_minor": 5
}
